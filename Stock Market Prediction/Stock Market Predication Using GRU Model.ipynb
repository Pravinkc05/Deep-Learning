{
 "cells": [
  {
   "cell_type": "markdown",
   "metadata": {
    "id": "7SZxKPcyDbw_"
   },
   "source": [
    "# Stock Market Analysis And Forecasting \n",
    "The world of stock markets, also known as equity or share markets, brings together buyers and sellers of stocks (shares). These shares represent a piece of ownership in a company. They can be traded publicly on exchanges or privately, like shares in a startup sold through crowdfunding.  \n",
    "\n",
    "Investing in the stock market typically involves using a stockbroker or online platform. Investors usually follow a specific strategy when making their choices.\n",
    "\n",
    "Predicting how the stock market will perform has long been a puzzle for financial experts and statisticians. The goal is to buy stocks that will likely rise in value and sell those expected to decline. There are two main approaches to stock market prediction.\n",
    "\n",
    "One method is fundamental analysis, which focuses on a company's underlying health and financial performance. This includes factors like its market position, expenses, and growth rate. The other method is technical analysis, which studies historical stock price movements and trading patterns to identify potential future trends. \n",
    "\n",
    "In the first part of our project, we will try to analyze the data. and in the second part, we will forecast the stock market."
   ]
  },
  {
   "cell_type": "markdown",
   "metadata": {
    "id": "BBXfaTvOEAuf"
   },
   "source": [
    "# Dataset\n",
    " 1. Google\n",
    " 2. Microsoft\n",
    " 3. IBM\n",
    " 4. Amazon\n",
    "  "
   ]
  },
  {
   "cell_type": "markdown",
   "metadata": {
    "id": "tNY4T_YzESnG"
   },
   "source": [
    "# Analysis "
   ]
  },
  {
   "cell_type": "markdown",
   "metadata": {
    "id": "xYAbeZ0eFpns"
   },
   "source": [
    "**Let's dive into the data!**\n",
    "\n",
    "1. **Starting and Finishing Points:** We'll start by examining the distribution of opening and closing stock prices. This will help us understand how often prices start high, low, or somewhere in between, and how often they end higher, lower, or flat compared to their starting point.\n",
    "\n",
    "2. **How Close are They?**  We'll then calculate the correlation between opening and closing prices. Correlation is a measure that tells us how much two things tend to move together. In this case, it will show us if there's a relationship between a stock's opening price and its closing price.\n",
    "\n",
    "3. **Visualizing the Data:** Next, we'll take a graphical look at our data. We'll create visualizations for all the important attributes we have, including opening price, closing price, and trading volume. These visualizations will help us identify patterns and trends more easily.\n",
    "\n",
    "4. **Focusing on Highs and Closes:** We'll specifically compare the \"high\" price of the day with the \"closing\" price for each data point. This will tell us how often the stock reached its daily high point near the end of the trading day.\n",
    "\n",
    "5. **Trends and Cycles:** Finally, we'll explore the data to uncover any underlying trends or seasonality. Trends can show us if prices are generally going up, down, or staying flat over time. Seasonality can reveal patterns that repeat themselves throughout the year, such as price fluctuations tied to specific events or quarters.\n"
   ]
  },
  {
   "cell_type": "code",
   "execution_count": null,
   "metadata": {
    "id": "aiCB-iASNjYf"
   },
   "outputs": [],
   "source": [
    "import numpy as np \n",
    "import pandas as pd\n",
    "import matplotlib.pyplot as plt\n",
    "import seaborn as sns\n",
    "import plotly.express as px\n",
    "import warnings\n",
    "warnings.filterwarnings(\"ignore\")"
   ]
  },
  {
   "cell_type": "code",
   "execution_count": null,
   "metadata": {
    "colab": {
     "base_uri": "https://localhost:8080/",
     "height": 235
    },
    "id": "Cf8CvSh6OGay",
    "outputId": "7ce041bf-0827-415c-8af8-a5f97b028c22"
   },
   "outputs": [],
   "source": [
    "google = pd.read_csv('GOOGL_2006-01-01_to_2018-01-01.csv', index_col='Date', parse_dates=['Date'])\n",
    "google.head()"
   ]
  },
  {
   "cell_type": "code",
   "execution_count": null,
   "metadata": {
    "colab": {
     "base_uri": "https://localhost:8080/",
     "height": 235
    },
    "id": "gYLCppXiTrK0",
    "outputId": "5be584f8-e797-402c-89b3-2c6505a44c02"
   },
   "outputs": [],
   "source": [
    "microsoft = pd.read_csv('MSFT_2006-01-01_to_2018-01-01.csv', index_col='Date', parse_dates=['Date'])\n",
    "microsoft.head()"
   ]
  },
  {
   "cell_type": "code",
   "execution_count": null,
   "metadata": {
    "colab": {
     "base_uri": "https://localhost:8080/",
     "height": 235
    },
    "id": "iPKqlK-ZOOIx",
    "outputId": "96f140cd-ace1-4dd7-948c-c53dbffd8394"
   },
   "outputs": [],
   "source": [
    "amazon = pd.read_csv('AMZN_2006-01-01_to_2018-01-01.csv', index_col='Date', parse_dates=['Date'])\n",
    "amazon.head()"
   ]
  },
  {
   "cell_type": "code",
   "execution_count": null,
   "metadata": {
    "colab": {
     "base_uri": "https://localhost:8080/",
     "height": 235
    },
    "id": "7D6zjAx2OZRp",
    "outputId": "594067ed-8438-4def-9f23-a19f2edc23d6"
   },
   "outputs": [],
   "source": [
    "ibm = pd.read_csv('IBM_2006-01-01_to_2018-01-01.csv', index_col='Date', parse_dates=['Date'])\n",
    "ibm.head()"
   ]
  },
  {
   "cell_type": "code",
   "execution_count": null,
   "metadata": {
    "colab": {
     "base_uri": "https://localhost:8080/",
     "height": 297
    },
    "id": "_DsuOfcPOfDZ",
    "outputId": "e2856039-3928-4ba8-8990-7206eac91a64"
   },
   "outputs": [],
   "source": [
    "google.describe()"
   ]
  },
  {
   "cell_type": "markdown",
   "metadata": {
    "id": "VOn--fTaHv9u"
   },
   "source": [
    "After describing the google dataset, there is a high difference between the minimum and maximum values. And 75% of the value is close to the mean."
   ]
  },
  {
   "cell_type": "code",
   "execution_count": null,
   "metadata": {
    "colab": {
     "base_uri": "https://localhost:8080/"
    },
    "id": "NlCJYoSlOkTC",
    "outputId": "1e6c5e8e-c477-44e8-c8e1-0d04d0cae615"
   },
   "outputs": [],
   "source": [
    "google.columns"
   ]
  },
  {
   "cell_type": "code",
   "execution_count": null,
   "metadata": {
    "colab": {
     "base_uri": "https://localhost:8080/"
    },
    "id": "afaJu5juPvVM",
    "outputId": "d02c39e2-6673-4045-d73b-3492354eddb2"
   },
   "outputs": [],
   "source": [
    "google.info()"
   ]
  },
  {
   "cell_type": "code",
   "execution_count": null,
   "metadata": {},
   "outputs": [],
   "source": [
    "google.shape"
   ]
  },
  {
   "cell_type": "code",
   "execution_count": null,
   "metadata": {
    "colab": {
     "base_uri": "https://localhost:8080/"
    },
    "id": "YJO2obUyQJ-D",
    "outputId": "ebe42795-4831-4a6c-c7d0-509bf538878c"
   },
   "outputs": [],
   "source": [
    "google.isna().sum()"
   ]
  },
  {
   "cell_type": "code",
   "execution_count": null,
   "metadata": {},
   "outputs": [],
   "source": [
    "google.duplicated().sum()"
   ]
  },
  {
   "cell_type": "code",
   "execution_count": null,
   "metadata": {
    "colab": {
     "base_uri": "https://localhost:8080/",
     "height": 297
    },
    "id": "u9e-C3xCUFoG",
    "outputId": "d0f68684-bc60-41d5-8248-69714753da9e"
   },
   "outputs": [],
   "source": [
    "microsoft.describe()"
   ]
  },
  {
   "cell_type": "markdown",
   "metadata": {
    "id": "AiEKBLpTIhDN"
   },
   "source": [
    "Also same for the Microsoft dataset, there is a high difference between the minimum and maximum values. And 75% of the value is close to the mean."
   ]
  },
  {
   "cell_type": "code",
   "execution_count": null,
   "metadata": {
    "colab": {
     "base_uri": "https://localhost:8080/"
    },
    "id": "B1XbVBsaUFqs",
    "outputId": "f3c2d8fd-5e19-4903-e9b1-77f39eeb2a4b"
   },
   "outputs": [],
   "source": [
    "microsoft.info()"
   ]
  },
  {
   "cell_type": "code",
   "execution_count": null,
   "metadata": {},
   "outputs": [],
   "source": [
    "microsoft.shape"
   ]
  },
  {
   "cell_type": "code",
   "execution_count": null,
   "metadata": {
    "colab": {
     "base_uri": "https://localhost:8080/"
    },
    "id": "ZGeHejlzUFtb",
    "outputId": "46ad34ee-9e98-4f77-c604-7c3b02fffa1a"
   },
   "outputs": [],
   "source": [
    "microsoft.isna().sum()"
   ]
  },
  {
   "cell_type": "code",
   "execution_count": null,
   "metadata": {},
   "outputs": [],
   "source": [
    "microsoft.duplicated().sum()"
   ]
  },
  {
   "cell_type": "code",
   "execution_count": null,
   "metadata": {
    "colab": {
     "base_uri": "https://localhost:8080/"
    },
    "id": "_lAPBgC3QTP0",
    "outputId": "8b1cb52c-45c2-4f77-e9f1-9eafed9fdcf6"
   },
   "outputs": [],
   "source": [
    "amazon.info()"
   ]
  },
  {
   "cell_type": "code",
   "execution_count": null,
   "metadata": {
    "colab": {
     "base_uri": "https://localhost:8080/",
     "height": 297
    },
    "id": "e7ReAgz7QXC6",
    "outputId": "a083e744-86b4-42b4-d57f-a5b092e5f052"
   },
   "outputs": [],
   "source": [
    "amazon.describe()"
   ]
  },
  {
   "cell_type": "markdown",
   "metadata": {
    "id": "nphzU3gkI09M"
   },
   "source": [
    "Also same for the Amazon dataset, there is a high difference between the minimum and maximum values. And 75% of the value is close to the mean."
   ]
  },
  {
   "cell_type": "code",
   "execution_count": null,
   "metadata": {
    "colab": {
     "base_uri": "https://localhost:8080/"
    },
    "id": "kmBZCcnvQeOT",
    "outputId": "58b0405f-4dfe-4ff2-a7f3-9138a85da3a4"
   },
   "outputs": [],
   "source": [
    "amazon.columns"
   ]
  },
  {
   "cell_type": "code",
   "execution_count": null,
   "metadata": {},
   "outputs": [],
   "source": [
    "amazon.shape"
   ]
  },
  {
   "cell_type": "code",
   "execution_count": null,
   "metadata": {
    "colab": {
     "base_uri": "https://localhost:8080/"
    },
    "id": "oxbvY--YQjbz",
    "outputId": "084b0ef8-806c-4fd5-d3ec-fb27e4a7e008"
   },
   "outputs": [],
   "source": [
    "amazon.isna().sum()"
   ]
  },
  {
   "cell_type": "code",
   "execution_count": null,
   "metadata": {},
   "outputs": [],
   "source": [
    "amazon.duplicated().sum()"
   ]
  },
  {
   "cell_type": "code",
   "execution_count": null,
   "metadata": {
    "colab": {
     "base_uri": "https://localhost:8080/",
     "height": 297
    },
    "id": "ubBizjDgQ9vT",
    "outputId": "ec4b39cf-b198-47be-884a-e5a93c823c16"
   },
   "outputs": [],
   "source": [
    "ibm.describe()"
   ]
  },
  {
   "cell_type": "markdown",
   "metadata": {
    "id": "idAqf3mEJHnN"
   },
   "source": [
    "But for the IBM dataset, we can see all the value is nearly close to the mean."
   ]
  },
  {
   "cell_type": "code",
   "execution_count": null,
   "metadata": {
    "colab": {
     "base_uri": "https://localhost:8080/"
    },
    "id": "JX0WUfEERBFr",
    "outputId": "c989995c-3523-4276-d21e-342f129af016"
   },
   "outputs": [],
   "source": [
    "ibm.columns"
   ]
  },
  {
   "cell_type": "code",
   "execution_count": null,
   "metadata": {
    "colab": {
     "base_uri": "https://localhost:8080/"
    },
    "id": "gF2Vp6xpRGgL",
    "outputId": "2c184665-5108-465c-ed7e-f08e24e72a14"
   },
   "outputs": [],
   "source": [
    "ibm.isna().sum()"
   ]
  },
  {
   "cell_type": "code",
   "execution_count": null,
   "metadata": {},
   "outputs": [],
   "source": [
    "ibm.shape"
   ]
  },
  {
   "cell_type": "code",
   "execution_count": null,
   "metadata": {
    "id": "wcMiz2pDRUJT"
   },
   "outputs": [],
   "source": [
    "ibm.dropna(inplace=True)"
   ]
  },
  {
   "cell_type": "code",
   "execution_count": null,
   "metadata": {
    "colab": {
     "base_uri": "https://localhost:8080/"
    },
    "id": "bJDp1qMTSMGU",
    "outputId": "444b03d8-27cf-4989-f13d-6bd36d8659f2"
   },
   "outputs": [],
   "source": [
    "ibm.isna().sum()"
   ]
  },
  {
   "cell_type": "code",
   "execution_count": null,
   "metadata": {},
   "outputs": [],
   "source": [
    "ibm.duplicated().sum()"
   ]
  },
  {
   "cell_type": "code",
   "execution_count": null,
   "metadata": {
    "colab": {
     "base_uri": "https://localhost:8080/",
     "height": 542
    },
    "id": "vdy-INO5tRTM",
    "outputId": "aeb6a77f-9074-4828-ccdc-0d84c10b5a8f"
   },
   "outputs": [],
   "source": [
    "fig = px.histogram(google, \n",
    "                   x='Close', \n",
    "                   marginal='box', \n",
    "                   nbins=47, \n",
    "                   title='Distribution of Close')\n",
    "fig.update_layout(bargap=0.1)\n",
    "fig.show()"
   ]
  },
  {
   "cell_type": "code",
   "execution_count": null,
   "metadata": {
    "colab": {
     "base_uri": "https://localhost:8080/",
     "height": 542
    },
    "id": "5UVmGagftpjt",
    "outputId": "fb0cf4cb-9260-4219-b74c-f3c33caf827d"
   },
   "outputs": [],
   "source": [
    "fig = px.histogram(google, \n",
    "                   x='Open', \n",
    "                   marginal='box', \n",
    "                   color_discrete_sequence=['red'], \n",
    "                   title='Distribution of open')\n",
    "fig.update_layout(bargap=0.1)\n",
    "fig.show()"
   ]
  },
  {
   "cell_type": "code",
   "execution_count": null,
   "metadata": {
    "colab": {
     "base_uri": "https://localhost:8080/",
     "height": 542
    },
    "id": "YysvtUmIuAqi",
    "outputId": "7ef51f06-fde5-45bb-ee5c-c782fbae23b1"
   },
   "outputs": [],
   "source": [
    "fig = px.scatter(google, \n",
    "                 x='Open', \n",
    "                 y='Close', \n",
    "                 \n",
    "                 opacity=0.8, \n",
    "                  \n",
    "                 title='Open vs. Close')\n",
    "fig.update_traces(marker_size=5)\n",
    "fig.show()"
   ]
  },
  {
   "cell_type": "markdown",
   "metadata": {
    "id": "kNq5XracJazF"
   },
   "source": [
    "There is a very high correlation between \"Open\" and \"Close\". As we can see from the scatter plot."
   ]
  },
  {
   "cell_type": "code",
   "execution_count": null,
   "metadata": {},
   "outputs": [],
   "source": [
    "google = google.drop('Name', axis=1)"
   ]
  },
  {
   "cell_type": "code",
   "execution_count": null,
   "metadata": {
    "colab": {
     "base_uri": "https://localhost:8080/",
     "height": 204
    },
    "id": "pM8o7QEdulPc",
    "outputId": "235f2ad4-7493-4bbc-b97b-534eb238165b"
   },
   "outputs": [],
   "source": [
    "google.corr()"
   ]
  },
  {
   "cell_type": "markdown",
   "metadata": {},
   "source": [
    "### Visualization"
   ]
  },
  {
   "cell_type": "code",
   "execution_count": null,
   "metadata": {
    "colab": {
     "base_uri": "https://localhost:8080/",
     "height": 661
    },
    "id": "AiT3r-2kSRGj",
    "outputId": "cca7e3cd-6baf-4031-8fed-137248ec8909"
   },
   "outputs": [],
   "source": [
    "google['2008':'2018'].plot(subplots=True, figsize=(10,12))\n",
    "plt.title('Google stock attributes from 2008 to 2018')\n",
    "plt.show()"
   ]
  },
  {
   "cell_type": "code",
   "execution_count": null,
   "metadata": {
    "colab": {
     "base_uri": "https://localhost:8080/",
     "height": 661
    },
    "id": "-8QaSCwIUaCd",
    "outputId": "0dbeb672-dbff-40ea-f0fd-49dfd90b17ef"
   },
   "outputs": [],
   "source": [
    "microsoft['2008':'2018'].plot(subplots=True, figsize=(10,12))\n",
    "plt.title('Microsoft stock attributes from 2008 to 2018')\n",
    "plt.show()"
   ]
  },
  {
   "cell_type": "code",
   "execution_count": null,
   "metadata": {
    "colab": {
     "base_uri": "https://localhost:8080/",
     "height": 661
    },
    "id": "caMqi4-hSw-0",
    "outputId": "3de05802-e399-4148-b254-fe230ed98e7a"
   },
   "outputs": [],
   "source": [
    "amazon['2008':'2018'].plot(subplots=True, figsize=(10,12))\n",
    "plt.title('Amazon stock attributes from 2008 to 2018')\n",
    "plt.show()"
   ]
  },
  {
   "cell_type": "code",
   "execution_count": null,
   "metadata": {
    "colab": {
     "base_uri": "https://localhost:8080/",
     "height": 661
    },
    "id": "jc-ay-okS5Ek",
    "outputId": "aa61d916-3d67-4e56-a324-7f99bb23042d"
   },
   "outputs": [],
   "source": [
    "ibm['2008':'2018'].plot(subplots=True, figsize=(10,12))\n",
    "plt.title('IBM stock attributes from 2008 to 2018')\n",
    "plt.show()"
   ]
  },
  {
   "cell_type": "markdown",
   "metadata": {
    "id": "oEyemEBUJ7Hd"
   },
   "source": [
    "### High plot"
   ]
  },
  {
   "cell_type": "code",
   "execution_count": null,
   "metadata": {
    "colab": {
     "base_uri": "https://localhost:8080/",
     "height": 514
    },
    "id": "n91_-c-vTGYr",
    "outputId": "89755429-2cfa-4548-8199-509c800faa7d"
   },
   "outputs": [],
   "source": [
    "# Plotting before normalization\n",
    "google.High.plot()\n",
    "microsoft.High.plot()\n",
    "amazon.High.plot()\n",
    "ibm.High.plot()\n",
    "plt.legend(['Google','Microsoft','Amazon','IBM'])\n",
    "plt.show()"
   ]
  },
  {
   "cell_type": "markdown",
   "metadata": {
    "id": "uNEvX-eNKG_u"
   },
   "source": [
    "**Looking at the 'Highs':**\n",
    "\n",
    "* **Microsoft:** The \"High\" price for Microsoft shows a gradual, steady increase over time. This suggests a consistent upward trend, but not a dramatic one.\n",
    "* **IBM:**  IBM's \"High\" value started around the same level as Amazon's, but it hasn't seen the same explosive growth. There's been a slight downward trend since 2012. \n",
    "* **Amazon:**  Amazon's \"High\" value is a standout. It started lower than the others but has experienced exponential growth since 2012. This indicates a period of significant price increases.\n",
    "* **Google vs. Amazon:**  An interesting battle has been brewing between Google and Amazon since 2016. Both companies have seen their \"High\" values climb, with Amazon taking the lead in 2018. \n"
   ]
  },
  {
   "cell_type": "code",
   "execution_count": null,
   "metadata": {
    "colab": {
     "base_uri": "https://localhost:8080/",
     "height": 69
    },
    "id": "At_n7sgAVHOQ",
    "outputId": "8df3470a-c038-4cfe-ba37-d9a1043d2a30"
   },
   "outputs": [],
   "source": [
    "# Plotting after Normalizing\n",
    "normalized_google = google.High.div(google.High.iloc[0]).mul(100)\n",
    "normalized_microsoft = microsoft.High.div(microsoft.High.iloc[0]).mul(100)\n",
    "normalized_amazon = amazon.High.div(google.High.iloc[0]).mul(100)\n",
    "normalized_ibm = ibm.High.div(microsoft.High.iloc[0]).mul(100)\n",
    "normalized_google.plot()\n",
    "normalized_microsoft.plot()\n",
    "normalized_amazon.plot()\n",
    "normalized_ibm.plot()\n",
    "plt.legend(['Google','Microsoft','Amazon','IBM'])\n",
    "plt.show()"
   ]
  },
  {
   "cell_type": "code",
   "execution_count": null,
   "metadata": {
    "colab": {
     "base_uri": "https://localhost:8080/",
     "height": 530
    },
    "id": "p5Mb1sq8WU84",
    "outputId": "b16ec5b1-e160-45cf-e541-d279f62c347b"
   },
   "outputs": [],
   "source": [
    "# Expanding window functions\n",
    "microsoft_mean = microsoft.High.expanding().mean()\n",
    "microsoft_std = microsoft.High.expanding().std()\n",
    "microsoft.High.plot()\n",
    "microsoft_mean.plot()\n",
    "microsoft_std.plot()\n",
    "plt.legend(['High','Expanding Mean','Expanding Standard Deviation'])\n",
    "plt.title('Microsoft')\n",
    "plt.show()"
   ]
  },
  {
   "cell_type": "markdown",
   "metadata": {
    "id": "F_uazrtGMsMQ"
   },
   "source": [
    "In Microsoft data, we can see in 2009 \"High\" value was under mean for a long time, so we can say there was some loss."
   ]
  },
  {
   "cell_type": "code",
   "execution_count": null,
   "metadata": {
    "colab": {
     "base_uri": "https://localhost:8080/",
     "height": 530
    },
    "id": "HYJVphVxWYeV",
    "outputId": "3584d0c6-b486-4f75-b9fa-3c9372f6813b"
   },
   "outputs": [],
   "source": [
    "# Expanding window functions\n",
    "google_mean = google.High.expanding().mean()\n",
    "google_std = google.High.expanding().std()\n",
    "google.High.plot()\n",
    "google_mean.plot()\n",
    "google_std.plot()\n",
    "plt.legend(['High','Expanding Mean','Expanding Standard Deviation'])\n",
    "plt.title('Google')\n",
    "plt.show()"
   ]
  },
  {
   "cell_type": "markdown",
   "metadata": {
    "id": "XqflMuOONQbe"
   },
   "source": [
    "Same for Google data, we can see in 2009 \"High\" value was under mean for a long time, so we can say there was some loss. But it was not an as huge loss as Amazon."
   ]
  },
  {
   "cell_type": "code",
   "execution_count": null,
   "metadata": {
    "colab": {
     "base_uri": "https://localhost:8080/",
     "height": 530
    },
    "id": "hdwNPs0qW9nn",
    "outputId": "8e9d23af-827f-4513-95b5-c186b44a0221"
   },
   "outputs": [],
   "source": [
    "# Expanding window functions\n",
    "ibm_mean = ibm.High.expanding().mean()\n",
    "ibm_std = ibm.High.expanding().std()\n",
    "ibm.High.plot()\n",
    "ibm_mean.plot()\n",
    "ibm_std.plot()\n",
    "plt.legend(['High','Expanding Mean','Expanding Standard Deviation'])\n",
    "plt.title('IBM')\n",
    "plt.show()"
   ]
  },
  {
   "cell_type": "markdown",
   "metadata": {
    "id": "wxBYR8shNm3n"
   },
   "source": [
    "Same for IBM data, we can see in 2009 \"High\" value was under mean for a long time, so we can say there was some loss. And after 2013 again a drop then in 2016 there was a huge loss but after that, they were doing well. After just some profit again in between 2017, there was another drop."
   ]
  },
  {
   "cell_type": "code",
   "execution_count": null,
   "metadata": {
    "colab": {
     "base_uri": "https://localhost:8080/",
     "height": 530
    },
    "id": "1N2XLLVfXaN4",
    "outputId": "08fef5e2-78fb-44bf-c301-f3e17f7dce97"
   },
   "outputs": [],
   "source": [
    "# Expanding window functions\n",
    "amazon_mean = amazon.High.expanding().mean()\n",
    "amazon_std = amazon.High.expanding().std()\n",
    "amazon.High.plot()\n",
    "amazon_mean.plot()\n",
    "amazon_std.plot()\n",
    "plt.legend(['High','Expanding Mean','Expanding Standard Deviation'])\n",
    "plt.title('Amazon')\n",
    "plt.show()"
   ]
  },
  {
   "cell_type": "markdown",
   "metadata": {
    "id": "BKFOLIFQNku_"
   },
   "source": [
    "For Amazon's \"High\" value the case is different they also face loss in 2009 but for a very little margin. And after that their growth is in exponential order."
   ]
  },
  {
   "cell_type": "markdown",
   "metadata": {
    "id": "6-_5BaUEPN7u"
   },
   "source": [
    "Here we can see every company faced a loss in 2009, maybe that's because of the economic slowdown."
   ]
  },
  {
   "cell_type": "markdown",
   "metadata": {
    "id": "kF6fwLdhPE3-"
   },
   "source": [
    "### Close"
   ]
  },
  {
   "cell_type": "code",
   "execution_count": null,
   "metadata": {
    "colab": {
     "base_uri": "https://localhost:8080/",
     "height": 530
    },
    "id": "EUTiQTKXXtPH",
    "outputId": "faa3a26a-0c01-4f83-9c89-77bbeb7b3b77"
   },
   "outputs": [],
   "source": [
    "# Expanding window functions\n",
    "google_mean = google.Close.expanding().mean()\n",
    "google_std = google.Close.expanding().std()\n",
    "google.High.plot()\n",
    "google_mean.plot()\n",
    "google_std.plot()\n",
    "plt.legend(['Close','Expanding Mean','Expanding Standard Deviation'])\n",
    "plt.title('Google')\n",
    "plt.show()"
   ]
  },
  {
   "cell_type": "code",
   "execution_count": null,
   "metadata": {
    "id": "iyr745YnYdOG"
   },
   "outputs": [],
   "source": [
    "from pylab import rcParams\n",
    "import statsmodels.api as sm"
   ]
  },
  {
   "cell_type": "markdown",
   "metadata": {
    "id": "NStUk9DAPuCO"
   },
   "source": [
    "## Trend and Seasonality"
   ]
  },
  {
   "cell_type": "markdown",
   "metadata": {
    "id": "xyc1m22DP9vf"
   },
   "source": [
    "### Google data"
   ]
  },
  {
   "cell_type": "code",
   "execution_count": null,
   "metadata": {
    "colab": {
     "base_uri": "https://localhost:8080/",
     "height": 657
    },
    "id": "nCEPW4zHYMVO",
    "outputId": "9d1e681b-f6af-46ae-d2c4-8440e1eec48f"
   },
   "outputs": [],
   "source": [
    "# Decomposition\n",
    "rcParams['figure.figsize'] = 11, 9\n",
    "decomposed_google_volume = sm.tsa.seasonal_decompose(google[\"High\"], period=360) # The frequncy is annual\n",
    "figure = decomposed_google_volume.plot()\n",
    "plt.show()"
   ]
  },
  {
   "cell_type": "markdown",
   "metadata": {
    "id": "-BKKfxqAQBu3"
   },
   "source": [
    "There is a very slow increasing trend until 2012, but after 2012 there was an exponential high trend. And very high seasonality."
   ]
  },
  {
   "cell_type": "markdown",
   "metadata": {
    "id": "bb1MA8O7QmFs"
   },
   "source": [
    "### Microsoft data"
   ]
  },
  {
   "cell_type": "code",
   "execution_count": null,
   "metadata": {
    "colab": {
     "base_uri": "https://localhost:8080/",
     "height": 657
    },
    "id": "JZR6or5ZYi8m",
    "outputId": "271ee237-4836-43a2-a94c-b11f6f0ed652"
   },
   "outputs": [],
   "source": [
    "rcParams['figure.figsize'] = 11, 9\n",
    "decomposed_microsoft_volume = sm.tsa.seasonal_decompose(microsoft[\"High\"], period=360) # The frequncy is annual\n",
    "figure = decomposed_microsoft_volume.plot()\n",
    "plt.show()"
   ]
  },
  {
   "cell_type": "markdown",
   "metadata": {
    "id": "C4iQFevgQ3Px"
   },
   "source": [
    "Same for Microsoft data, there is a very slow increasing trend until 2012, but after 2012 there was an exponential high trend. And very high seasonality."
   ]
  },
  {
   "cell_type": "markdown",
   "metadata": {
    "id": "std7HguHQ7jw"
   },
   "source": [
    "### IBM data"
   ]
  },
  {
   "cell_type": "code",
   "execution_count": null,
   "metadata": {
    "colab": {
     "base_uri": "https://localhost:8080/",
     "height": 657
    },
    "id": "jfuFqS80Yxlu",
    "outputId": "ba038348-c4b5-43d1-b03f-334c0d21bb89"
   },
   "outputs": [],
   "source": [
    "rcParams['figure.figsize'] = 11, 9\n",
    "decomposed_ibm_volume = sm.tsa.seasonal_decompose(ibm[\"High\"], period=360) # The frequncy is annual\n",
    "figure = decomposed_ibm_volume.plot()\n",
    "plt.show()"
   ]
  },
  {
   "cell_type": "markdown",
   "metadata": {
    "id": "9ZVHA6zuRE-L"
   },
   "source": [
    "IBM data has a very slow increasing trend until 2008, but after 2009 there was an exponential high trend until 2013, then a high drop until 2016 then a very slow increasing trend. And very high seasonality."
   ]
  },
  {
   "cell_type": "markdown",
   "metadata": {
    "id": "95ZBbTHoRzNS"
   },
   "source": [
    "### Amazon data"
   ]
  },
  {
   "cell_type": "code",
   "execution_count": null,
   "metadata": {
    "colab": {
     "base_uri": "https://localhost:8080/",
     "height": 659
    },
    "id": "2578pdviY_Wo",
    "outputId": "07ebbf3f-2944-4bc5-fac6-cbe522b25a6d"
   },
   "outputs": [],
   "source": [
    "rcParams['figure.figsize'] = 11, 9\n",
    "decomposed_amazon_volume = sm.tsa.seasonal_decompose(amazon[\"High\"], period=360) # The frequncy is annual\n",
    "figure = decomposed_amazon_volume.plot()\n",
    "plt.show()"
   ]
  },
  {
   "cell_type": "markdown",
   "metadata": {
    "id": "uo4KfDAkSQF3"
   },
   "source": [
    "Amazon data is similar to Google data."
   ]
  },
  {
   "cell_type": "markdown",
   "metadata": {
    "id": "3i01zQQHSf-x"
   },
   "source": [
    "## Close"
   ]
  },
  {
   "cell_type": "markdown",
   "metadata": {},
   "source": [
    "### Google"
   ]
  },
  {
   "cell_type": "code",
   "execution_count": null,
   "metadata": {
    "colab": {
     "base_uri": "https://localhost:8080/",
     "height": 657
    },
    "id": "Oqx57vd1ZQVW",
    "outputId": "55e0bb86-f451-461b-c231-b917547cb06a"
   },
   "outputs": [],
   "source": [
    "rcParams['figure.figsize'] = 11, 9\n",
    "decomposed_google_volume = sm.tsa.seasonal_decompose(google[\"Close\"], period=360) # The frequncy is annual\n",
    "figure = decomposed_google_volume.plot()\n",
    "plt.show()"
   ]
  },
  {
   "cell_type": "markdown",
   "metadata": {},
   "source": [
    "### Microsoft"
   ]
  },
  {
   "cell_type": "code",
   "execution_count": null,
   "metadata": {
    "colab": {
     "base_uri": "https://localhost:8080/",
     "height": 657
    },
    "id": "cMSuInsuZWRn",
    "outputId": "ac1532ea-0c48-4808-c82c-c6fa1c5ff349"
   },
   "outputs": [],
   "source": [
    "rcParams['figure.figsize'] = 11, 9\n",
    "decomposed_microsoft_volume = sm.tsa.seasonal_decompose(microsoft[\"Close\"], period=360) # The frequncy is annual\n",
    "figure = decomposed_microsoft_volume.plot()\n",
    "plt.show()"
   ]
  },
  {
   "cell_type": "markdown",
   "metadata": {},
   "source": [
    "### Amazon"
   ]
  },
  {
   "cell_type": "code",
   "execution_count": null,
   "metadata": {
    "colab": {
     "base_uri": "https://localhost:8080/",
     "height": 661
    },
    "id": "Yc19oD9ZZi-B",
    "outputId": "8aa64728-5317-475c-d56a-4224c16c0b09"
   },
   "outputs": [],
   "source": [
    "rcParams['figure.figsize'] = 11, 9\n",
    "decomposed_amazon_volume = sm.tsa.seasonal_decompose(amazon[\"Close\"], period=360) # The frequncy is annual\n",
    "figure = decomposed_amazon_volume.plot()\n",
    "plt.show()"
   ]
  },
  {
   "cell_type": "markdown",
   "metadata": {},
   "source": [
    "### IBM"
   ]
  },
  {
   "cell_type": "code",
   "execution_count": null,
   "metadata": {
    "colab": {
     "base_uri": "https://localhost:8080/",
     "height": 657
    },
    "id": "HnfVt4A3Zvp_",
    "outputId": "8ede7386-e1a6-4740-ae69-efd6f9661890"
   },
   "outputs": [],
   "source": [
    "rcParams['figure.figsize'] = 11, 9\n",
    "decomposed_ibm_volume = sm.tsa.seasonal_decompose(ibm[\"Close\"], period=360) # The frequncy is annual\n",
    "figure = decomposed_ibm_volume.plot()\n",
    "plt.show()"
   ]
  },
  {
   "cell_type": "markdown",
   "metadata": {
    "id": "HpnfOK0GSo9z"
   },
   "source": [
    "Because there have a very strong correlation between Close and High, we can see the trend and seasonality is very similar."
   ]
  },
  {
   "cell_type": "markdown",
   "metadata": {
    "id": "oOmrNH8SaAh3"
   },
   "source": [
    "# Prediction"
   ]
  },
  {
   "cell_type": "markdown",
   "metadata": {
    "id": "IC01fIZaTOPh"
   },
   "source": [
    "## Time Series Forecasting:\n",
    "Time series forecasting uses information regarding historical values and associated patterns to predict future activity. Most often, this relates to trend analysis, cyclical fluctuation analysis, and issues of seasonality. As with all forecasting methods, success is not guaranteed.\n"
   ]
  },
  {
   "cell_type": "markdown",
   "metadata": {
    "id": "Xwhh0WbRT87g"
   },
   "source": [
    "# GRU Model:\n",
    "Gated recurrent unit  is essentially a simplified LSTM. It has\n",
    "the exact same role in the network. The main difference is in the number of\n",
    "gates and weights — GRU is somewhat simpler. It has 2 gates. Since it does\n",
    "not have an output gate, there is no control over the memory content. The\n",
    "update gate controls the information flow from the previous activation, and\n",
    "the addition of new information as well, while the reset gate is inserted\n",
    "into the candidate activation."
   ]
  },
  {
   "cell_type": "markdown",
   "metadata": {
    "id": "wjRsPGgEV1kC"
   },
   "source": [
    "By using GRU time series forecasting we will forcaste and check."
   ]
  },
  {
   "cell_type": "code",
   "execution_count": null,
   "metadata": {
    "colab": {
     "base_uri": "https://localhost:8080/",
     "height": 204
    },
    "id": "l7EHHznBaDJw",
    "outputId": "ad88b8de-4631-4090-bf10-d3f2004336cc"
   },
   "outputs": [],
   "source": [
    "filepath = 'AMZN_2006-01-01_to_2018-01-01.csv'\n",
    "data_amazon = pd.read_csv(filepath)\n",
    "data_amazon = data_amazon.sort_values('Date')\n",
    "data_amazon.head()"
   ]
  },
  {
   "cell_type": "code",
   "execution_count": null,
   "metadata": {
    "colab": {
     "base_uri": "https://localhost:8080/",
     "height": 617
    },
    "id": "ZEwyhKpraskx",
    "outputId": "39227089-cd76-44d1-be36-42e7928568e6"
   },
   "outputs": [],
   "source": [
    "import matplotlib.pyplot as plt\n",
    "import seaborn as sns\n",
    "\n",
    "sns.set_style(\"darkgrid\")\n",
    "plt.figure(figsize = (15,9))\n",
    "plt.plot(data_amazon[['Close']])\n",
    "plt.xticks(range(0,data_amazon.shape[0],500),data_amazon['Date'].loc[::500],rotation=45)\n",
    "plt.title(\"Amazon Stock Price\",fontsize=18, fontweight='bold')\n",
    "plt.xlabel('Date',fontsize=18)\n",
    "plt.ylabel('Close Price (USD)',fontsize=18)\n",
    "plt.show()"
   ]
  },
  {
   "cell_type": "code",
   "execution_count": null,
   "metadata": {
    "colab": {
     "base_uri": "https://localhost:8080/",
     "height": 204
    },
    "id": "bv0Jns3La31v",
    "outputId": "7b22163d-e847-4db3-86fb-a01806b53c47"
   },
   "outputs": [],
   "source": [
    "filepath = 'GOOGL_2006-01-01_to_2018-01-01.csv'\n",
    "data_google = pd.read_csv(filepath)\n",
    "data_google = data_google.sort_values('Date')\n",
    "data_google.head()"
   ]
  },
  {
   "cell_type": "code",
   "execution_count": null,
   "metadata": {
    "colab": {
     "base_uri": "https://localhost:8080/",
     "height": 617
    },
    "id": "o3UFvEoKbEtI",
    "outputId": "c9a05385-a59b-4fc1-b00c-fa71c0421444"
   },
   "outputs": [],
   "source": [
    "import matplotlib.pyplot as plt\n",
    "import seaborn as sns\n",
    "\n",
    "sns.set_style(\"darkgrid\")\n",
    "plt.figure(figsize = (15,9))\n",
    "plt.plot(data_google[['Close']])\n",
    "plt.xticks(range(0,data_google.shape[0],500),data_google['Date'].loc[::500],rotation=45)\n",
    "plt.title(\"Google Stock Price\",fontsize=18, fontweight='bold')\n",
    "plt.xlabel('Date',fontsize=18)\n",
    "plt.ylabel('Close Price (USD)',fontsize=18)\n",
    "plt.show()"
   ]
  },
  {
   "cell_type": "code",
   "execution_count": null,
   "metadata": {
    "colab": {
     "base_uri": "https://localhost:8080/",
     "height": 204
    },
    "id": "t1_8f6kzbQkP",
    "outputId": "9a847a67-bae5-4a34-b642-1692cdd6676b"
   },
   "outputs": [],
   "source": [
    "filepath = 'IBM_2006-01-01_to_2018-01-01.csv'\n",
    "data_ibm = pd.read_csv(filepath)\n",
    "data_ibm = data_ibm.sort_values('Date')\n",
    "data_ibm.head()"
   ]
  },
  {
   "cell_type": "code",
   "execution_count": null,
   "metadata": {
    "id": "Bg6QxpBebRFg"
   },
   "outputs": [],
   "source": [
    "data_ibm.dropna(inplace=True)"
   ]
  },
  {
   "cell_type": "code",
   "execution_count": null,
   "metadata": {
    "colab": {
     "base_uri": "https://localhost:8080/",
     "height": 617
    },
    "id": "V4C-y3VJbRJ_",
    "outputId": "1db15e57-8300-44ba-d88b-086fc924d156"
   },
   "outputs": [],
   "source": [
    "import matplotlib.pyplot as plt\n",
    "import seaborn as sns\n",
    "\n",
    "sns.set_style(\"darkgrid\")\n",
    "plt.figure(figsize = (15,9))\n",
    "plt.plot(data_ibm[['Close']])\n",
    "plt.xticks(range(0,data_ibm.shape[0],500),data_ibm['Date'].loc[::500],rotation=45)\n",
    "plt.title(\"IBM Stock Price\",fontsize=18, fontweight='bold')\n",
    "plt.xlabel('Date',fontsize=18)\n",
    "plt.ylabel('Close Price (USD)',fontsize=18)\n",
    "plt.show()"
   ]
  },
  {
   "cell_type": "code",
   "execution_count": null,
   "metadata": {
    "colab": {
     "base_uri": "https://localhost:8080/",
     "height": 204
    },
    "id": "WBSZPHEbbRTf",
    "outputId": "d0db95a8-52ad-4f74-c56a-fc86603b4447"
   },
   "outputs": [],
   "source": [
    "filepath = 'MSFT_2006-01-01_to_2018-01-01.csv'\n",
    "data_microsoft = pd.read_csv(filepath)\n",
    "data_microsoft = data_microsoft.sort_values('Date')\n",
    "data_microsoft.head()"
   ]
  },
  {
   "cell_type": "code",
   "execution_count": null,
   "metadata": {
    "colab": {
     "base_uri": "https://localhost:8080/",
     "height": 617
    },
    "id": "5SkU7knhbRWK",
    "outputId": "b6352b54-b080-46b7-fac3-c51ba922eb1d"
   },
   "outputs": [],
   "source": [
    "import matplotlib.pyplot as plt\n",
    "import seaborn as sns\n",
    "\n",
    "sns.set_style(\"darkgrid\")\n",
    "plt.figure(figsize = (15,9))\n",
    "plt.plot(data_microsoft[['Close']])\n",
    "plt.xticks(range(0,data_microsoft.shape[0],500),data_microsoft['Date'].loc[::500],rotation=45)\n",
    "plt.title(\"Microsoft Stock Price\",fontsize=18, fontweight='bold')\n",
    "plt.xlabel('Date',fontsize=18)\n",
    "plt.ylabel('Close Price (USD)',fontsize=18)\n",
    "plt.show()"
   ]
  },
  {
   "cell_type": "code",
   "execution_count": null,
   "metadata": {
    "colab": {
     "base_uri": "https://localhost:8080/"
    },
    "id": "OY_vrXqibRY-",
    "outputId": "ab8cda1f-66ba-4ef0-adac-d7e5d9c290f7"
   },
   "outputs": [],
   "source": [
    "price_amazon = data_amazon[['Close']]\n",
    "price_amazon.info()"
   ]
  },
  {
   "cell_type": "code",
   "execution_count": null,
   "metadata": {
    "colab": {
     "base_uri": "https://localhost:8080/"
    },
    "id": "dQVhos97bRbv",
    "outputId": "da489698-9241-45e9-a2ea-8cce9e9807f4"
   },
   "outputs": [],
   "source": [
    "from sklearn.preprocessing import MinMaxScaler\n",
    "\n",
    "scaler = MinMaxScaler(feature_range=(-1, 1))\n",
    "price_amazon['Close'] = scaler.fit_transform(price_amazon['Close'].values.reshape(-1,1))"
   ]
  },
  {
   "cell_type": "code",
   "execution_count": null,
   "metadata": {
    "id": "f0PSzA6UdJtC"
   },
   "outputs": [],
   "source": [
    "def split_data(stock, lookback):\n",
    "    data_raw = stock.to_numpy() # convert to numpy array\n",
    "    data = []\n",
    "    \n",
    "    # create all possible sequences of length seq_len\n",
    "    for index in range(len(data_raw) - lookback): \n",
    "        data.append(data_raw[index: index + lookback])\n",
    "    \n",
    "    data = np.array(data);\n",
    "    test_set_size = int(np.round(0.2*data.shape[0]));\n",
    "    train_set_size = data.shape[0] - (test_set_size);\n",
    "    \n",
    "    x_train = data[:train_set_size,:-1,:]\n",
    "    y_train = data[:train_set_size,-1,:]\n",
    "    \n",
    "    x_test = data[train_set_size:,:-1]\n",
    "    y_test = data[train_set_size:,-1,:]\n",
    "    \n",
    "    return [x_train, y_train, x_test, y_test]"
   ]
  },
  {
   "cell_type": "code",
   "execution_count": null,
   "metadata": {
    "colab": {
     "base_uri": "https://localhost:8080/"
    },
    "id": "X7Kb3LEgdQtw",
    "outputId": "a7cfff8d-554e-4ab8-a393-febbe9218900"
   },
   "outputs": [],
   "source": [
    "lookback = 20 # choose sequence length\n",
    "x_train, y_train, x_test, y_test = split_data(price_amazon, lookback)\n",
    "print('x_train.shape = ',x_train.shape)\n",
    "print('y_train.shape = ',y_train.shape)\n",
    "print('x_test.shape = ',x_test.shape)\n",
    "print('y_test.shape = ',y_test.shape)"
   ]
  },
  {
   "cell_type": "code",
   "execution_count": null,
   "metadata": {},
   "outputs": [],
   "source": [
    "#pip install torch"
   ]
  },
  {
   "cell_type": "code",
   "execution_count": null,
   "metadata": {
    "id": "j59iLswW6n8J"
   },
   "outputs": [],
   "source": [
    "import torch\n",
    "import torch.nn as nn\n",
    "\n",
    "x_train = torch.from_numpy(x_train).type(torch.Tensor)\n",
    "x_test = torch.from_numpy(x_test).type(torch.Tensor)\n",
    "y_train_gru = torch.from_numpy(y_train).type(torch.Tensor)\n",
    "y_test_gru = torch.from_numpy(y_test).type(torch.Tensor)"
   ]
  },
  {
   "cell_type": "code",
   "execution_count": null,
   "metadata": {
    "id": "4tbTJY636tAh"
   },
   "outputs": [],
   "source": [
    "input_dim = 1\n",
    "hidden_dim = 32\n",
    "num_layers = 2\n",
    "output_dim = 1\n",
    "num_epochs = 105"
   ]
  },
  {
   "cell_type": "code",
   "execution_count": null,
   "metadata": {
    "id": "p45RyZJv6yzR"
   },
   "outputs": [],
   "source": [
    "class GRU(nn.Module):\n",
    "    def __init__(self, input_dim, hidden_dim, num_layers, output_dim):\n",
    "        super(GRU, self).__init__()\n",
    "        self.hidden_dim = hidden_dim\n",
    "        self.num_layers = num_layers\n",
    "        \n",
    "        self.gru = nn.GRU(input_dim, hidden_dim, num_layers, batch_first=True)\n",
    "        self.fc = nn.Linear(hidden_dim, output_dim)\n",
    "\n",
    "    def forward(self, x):\n",
    "        h0 = torch.zeros(self.num_layers, x.size(0), self.hidden_dim).requires_grad_()\n",
    "        out, (hn) = self.gru(x, (h0.detach()))\n",
    "        out = self.fc(out[:, -1, :]) \n",
    "        return out"
   ]
  },
  {
   "cell_type": "code",
   "execution_count": null,
   "metadata": {
    "id": "RUuMYRMc61q_"
   },
   "outputs": [],
   "source": [
    "model = GRU(input_dim=input_dim, hidden_dim=hidden_dim, output_dim=output_dim, num_layers=num_layers)\n",
    "criterion = torch.nn.MSELoss(reduction='mean')\n",
    "optimiser = torch.optim.Adam(model.parameters(), lr=0.01)"
   ]
  },
  {
   "cell_type": "code",
   "execution_count": null,
   "metadata": {
    "colab": {
     "base_uri": "https://localhost:8080/"
    },
    "id": "3U5achPF64vQ",
    "outputId": "7b9788df-2c1b-4d0c-e5dc-50bbe10a2ef2",
    "scrolled": true
   },
   "outputs": [],
   "source": [
    "import time\n",
    "hist = np.zeros(num_epochs)\n",
    "start_time = time.time()\n",
    "gru = []\n",
    "\n",
    "for t in range(num_epochs):\n",
    "    y_train_pred = model(x_train)\n",
    "\n",
    "    loss = criterion(y_train_pred, y_train_gru)\n",
    "    print(\"Epoch \", t, \"MSE: \", loss.item())\n",
    "    hist[t] = loss.item()\n",
    "\n",
    "    optimiser.zero_grad()\n",
    "    loss.backward()\n",
    "    optimiser.step()\n",
    "\n",
    "training_time = time.time()-start_time    \n",
    "print(\"Training time: {}\".format(training_time))"
   ]
  },
  {
   "cell_type": "code",
   "execution_count": null,
   "metadata": {
    "id": "87QJ_Np_67Up"
   },
   "outputs": [],
   "source": [
    "predict = pd.DataFrame(scaler.inverse_transform(y_train_pred.detach().numpy()))\n",
    "original = pd.DataFrame(scaler.inverse_transform(y_train_gru.detach().numpy()))"
   ]
  },
  {
   "cell_type": "code",
   "execution_count": null,
   "metadata": {
    "colab": {
     "base_uri": "https://localhost:8080/",
     "height": 409
    },
    "id": "dLmh-oW87CxY",
    "outputId": "95fb8c6d-2fbb-462b-b5a4-e8524ad86124"
   },
   "outputs": [],
   "source": [
    "import seaborn as sns\n",
    "sns.set_style(\"darkgrid\")    \n",
    "\n",
    "fig = plt.figure()\n",
    "fig.subplots_adjust(hspace=0.2, wspace=0.2)\n",
    "\n",
    "plt.subplot(1, 2, 1)\n",
    "ax = sns.lineplot(x = original.index, y = original[0], label=\"Data\", color='royalblue')\n",
    "ax = sns.lineplot(x = predict.index, y = predict[0], label=\"Training Prediction (GRU)\", color='tomato')\n",
    "ax.set_title('Amazon stock price', size = 14, fontweight='bold')\n",
    "ax.set_xlabel(\"Days\", size = 14)\n",
    "ax.set_ylabel(\"Cost (USD)\", size = 14)\n",
    "ax.set_xticklabels('', size=10)\n",
    "\n",
    "\n",
    "plt.subplot(1, 2, 2)\n",
    "ax = sns.lineplot(data=hist, color='royalblue')\n",
    "ax.set_xlabel(\"Epoch\", size = 14)\n",
    "ax.set_ylabel(\"Loss\", size = 14)\n",
    "ax.set_title(\"Training Loss\", size = 14, fontweight='bold')\n",
    "fig.set_figheight(6)\n",
    "fig.set_figwidth(16)"
   ]
  },
  {
   "cell_type": "code",
   "execution_count": null,
   "metadata": {
    "colab": {
     "base_uri": "https://localhost:8080/"
    },
    "id": "rQAxMjDm7L1D",
    "outputId": "7cdbc434-3ffb-4db2-c82c-d7b69bf6b2fa"
   },
   "outputs": [],
   "source": [
    "import math\n",
    "from sklearn.metrics import mean_squared_error\n",
    "\n",
    "# make predictions\n",
    "y_test_pred = model(x_test)\n",
    "\n",
    "# invert predictions\n",
    "y_train_pred = scaler.inverse_transform(y_train_pred.detach().numpy())\n",
    "y_train = scaler.inverse_transform(y_train_gru.detach().numpy())\n",
    "y_test_pred = scaler.inverse_transform(y_test_pred.detach().numpy())\n",
    "y_test = scaler.inverse_transform(y_test_gru.detach().numpy())\n",
    "\n",
    "# calculate root mean squared error\n",
    "trainScore = math.sqrt(mean_squared_error(y_train[:,0], y_train_pred[:,0]))\n",
    "print('Train Score: %.2f RMSE' % (trainScore))\n",
    "testScore = math.sqrt(mean_squared_error(y_test[:,0], y_test_pred[:,0]))\n",
    "print('Test Score: %.2f RMSE' % (testScore))\n",
    "gru.append(trainScore)\n",
    "gru.append(testScore)\n",
    "gru.append(training_time)"
   ]
  },
  {
   "cell_type": "code",
   "execution_count": null,
   "metadata": {
    "id": "UfG1uNJu7r9U"
   },
   "outputs": [],
   "source": [
    "# shift train predictions for plotting\n",
    "trainPredictPlot = np.empty_like(price_amazon)\n",
    "trainPredictPlot[:, :] = np.nan\n",
    "trainPredictPlot[lookback:len(y_train_pred)+lookback, :] = y_train_pred\n",
    "\n",
    "# shift test predictions for plotting\n",
    "testPredictPlot = np.empty_like(price_amazon)\n",
    "testPredictPlot[:, :] = np.nan\n",
    "testPredictPlot[len(y_train_pred)+lookback-1:len(price_amazon)-1, :] = y_test_pred\n",
    "\n",
    "original = scaler.inverse_transform(price_amazon['Close'].values.reshape(-1,1))\n",
    "\n",
    "predictions = np.append(trainPredictPlot, testPredictPlot, axis=1)\n",
    "predictions = np.append(predictions, original, axis=1)\n",
    "result = pd.DataFrame(predictions)"
   ]
  },
  {
   "cell_type": "code",
   "execution_count": null,
   "metadata": {
    "colab": {
     "base_uri": "https://localhost:8080/",
     "height": 542
    },
    "id": "qQhmldRX7_xD",
    "outputId": "1030da71-8ad0-465f-8f49-1da1cda26d14",
    "scrolled": false
   },
   "outputs": [],
   "source": [
    "import plotly.express as px\n",
    "import plotly.graph_objects as go\n",
    "\n",
    "fig = go.Figure()\n",
    "fig.add_trace(go.Scatter(go.Scatter(x=result.index, y=result[0],\n",
    "                    mode='lines',\n",
    "                    name='Train prediction')))\n",
    "fig.add_trace(go.Scatter(x=result.index, y=result[1],\n",
    "                    mode='lines',\n",
    "                    name='Test prediction'))\n",
    "fig.add_trace(go.Scatter(go.Scatter(x=result.index, y=result[2],\n",
    "                    mode='lines',\n",
    "                    name='Actual Value')))\n",
    "fig.update_layout(\n",
    "    xaxis=dict(\n",
    "        showline=True,\n",
    "        showgrid=True,\n",
    "        showticklabels=False,\n",
    "        linecolor='white',\n",
    "        linewidth=2\n",
    "    ),\n",
    "    yaxis=dict(\n",
    "        title_text='Close (USD)',\n",
    "        titlefont=dict(\n",
    "            family='Rockwell',\n",
    "            size=12,\n",
    "            color='white',\n",
    "        ),\n",
    "        showline=True,\n",
    "        showgrid=True,\n",
    "        showticklabels=True,\n",
    "        linecolor='white',\n",
    "        linewidth=2,\n",
    "        ticks='outside',\n",
    "        tickfont=dict(\n",
    "            family='Rockwell',\n",
    "            size=12,\n",
    "            color='white',\n",
    "        ),\n",
    "    ),\n",
    "    showlegend=True,\n",
    "    template = 'plotly_dark'\n",
    "\n",
    ")\n",
    "\n",
    "\n",
    "\n",
    "annotations = []\n",
    "annotations.append(dict(xref='paper', yref='paper', x=0.0, y=1.05,\n",
    "                              xanchor='left', yanchor='bottom',\n",
    "                              text='Amazon Stock Prediction',\n",
    "                              font=dict(family='Rockwell',\n",
    "                                        size=26,\n",
    "                                        color='white'),\n",
    "                              showarrow=False))\n",
    "fig.update_layout(annotations=annotations)\n",
    "\n",
    "fig.show()"
   ]
  },
  {
   "cell_type": "code",
   "execution_count": null,
   "metadata": {
    "colab": {
     "base_uri": "https://localhost:8080/"
    },
    "id": "fxR4RFG18nrJ",
    "outputId": "4d51b94e-b508-4c8b-9fd9-ea6d48208ba7"
   },
   "outputs": [],
   "source": [
    "price_google = google[['Close']]\n",
    "price_google.info()"
   ]
  },
  {
   "cell_type": "code",
   "execution_count": null,
   "metadata": {
    "colab": {
     "base_uri": "https://localhost:8080/"
    },
    "id": "JXFf_qUb8uvS",
    "outputId": "c43bd632-1460-4eb4-f360-24d3ff230077"
   },
   "outputs": [],
   "source": [
    "from sklearn.preprocessing import MinMaxScaler\n",
    "\n",
    "scaler = MinMaxScaler(feature_range=(-1, 1))\n",
    "price_google['Close'] = scaler.fit_transform(price_google['Close'].values.reshape(-1,1))"
   ]
  },
  {
   "cell_type": "code",
   "execution_count": null,
   "metadata": {
    "colab": {
     "base_uri": "https://localhost:8080/"
    },
    "id": "IPB0M34v83sj",
    "outputId": "58aa3a82-2867-4410-9393-5447952a0fd9"
   },
   "outputs": [],
   "source": [
    "lookback = 20 # choose sequence length\n",
    "x_train, y_train, x_test, y_test = split_data(price_google, lookback)\n",
    "print('x_train.shape = ',x_train.shape)\n",
    "print('y_train.shape = ',y_train.shape)\n",
    "print('x_test.shape = ',x_test.shape)\n",
    "print('y_test.shape = ',y_test.shape)"
   ]
  },
  {
   "cell_type": "code",
   "execution_count": null,
   "metadata": {
    "id": "AEoTPmNz8_Tj"
   },
   "outputs": [],
   "source": [
    "import torch\n",
    "import torch.nn as nn\n",
    "\n",
    "x_train = torch.from_numpy(x_train).type(torch.Tensor)\n",
    "x_test = torch.from_numpy(x_test).type(torch.Tensor)\n",
    "y_train_lstm = torch.from_numpy(y_train).type(torch.Tensor)\n",
    "y_test_lstm = torch.from_numpy(y_test).type(torch.Tensor)\n",
    "y_train_gru = torch.from_numpy(y_train).type(torch.Tensor)\n",
    "y_test_gru = torch.from_numpy(y_test).type(torch.Tensor)"
   ]
  },
  {
   "cell_type": "code",
   "execution_count": null,
   "metadata": {
    "id": "KzEKOWQF9F6S"
   },
   "outputs": [],
   "source": [
    "model = GRU(input_dim=input_dim, hidden_dim=hidden_dim, output_dim=output_dim, num_layers=num_layers)\n",
    "criterion = torch.nn.MSELoss(reduction='mean')\n",
    "optimiser = torch.optim.Adam(model.parameters(), lr=0.01)"
   ]
  },
  {
   "cell_type": "code",
   "execution_count": null,
   "metadata": {
    "colab": {
     "base_uri": "https://localhost:8080/"
    },
    "id": "PJsqrz_79I67",
    "outputId": "ada38605-a5cd-4ff0-a304-33beebb7b6d2",
    "scrolled": true
   },
   "outputs": [],
   "source": [
    "hist = np.zeros(num_epochs)\n",
    "start_time = time.time()\n",
    "gru = []\n",
    "\n",
    "for t in range(num_epochs):\n",
    "    y_train_pred = model(x_train)\n",
    "\n",
    "    loss = criterion(y_train_pred, y_train_gru)\n",
    "    print(\"Epoch \", t, \"MSE: \", loss.item())\n",
    "    hist[t] = loss.item()\n",
    "\n",
    "    optimiser.zero_grad()\n",
    "    loss.backward()\n",
    "    optimiser.step()\n",
    "\n",
    "training_time = time.time()-start_time    \n",
    "print(\"Training time: {}\".format(training_time))"
   ]
  },
  {
   "cell_type": "code",
   "execution_count": null,
   "metadata": {
    "id": "mqgPtY6R9NJM"
   },
   "outputs": [],
   "source": [
    "predict = pd.DataFrame(scaler.inverse_transform(y_train_pred.detach().numpy()))\n",
    "original = pd.DataFrame(scaler.inverse_transform(y_train_gru.detach().numpy()))"
   ]
  },
  {
   "cell_type": "code",
   "execution_count": null,
   "metadata": {
    "colab": {
     "base_uri": "https://localhost:8080/",
     "height": 409
    },
    "id": "3EdqdT9C9PRC",
    "outputId": "c67d663d-60ce-4f8d-e82f-8c067eb3401c"
   },
   "outputs": [],
   "source": [
    "import seaborn as sns\n",
    "sns.set_style(\"darkgrid\")    \n",
    "\n",
    "fig = plt.figure()\n",
    "fig.subplots_adjust(hspace=0.2, wspace=0.2)\n",
    "\n",
    "plt.subplot(1, 2, 1)\n",
    "ax = sns.lineplot(x = original.index, y = original[0], label=\"Data\", color='royalblue')\n",
    "ax = sns.lineplot(x = predict.index, y = predict[0], label=\"Training Prediction (GRU)\", color='tomato')\n",
    "ax.set_title('Google stock price', size = 14, fontweight='bold')\n",
    "ax.set_xlabel(\"Days\", size = 14)\n",
    "ax.set_ylabel(\"Cost (USD)\", size = 14)\n",
    "ax.set_xticklabels('', size=10)\n",
    "\n",
    "\n",
    "plt.subplot(1, 2, 2)\n",
    "ax = sns.lineplot(data=hist, color='royalblue')\n",
    "ax.set_xlabel(\"Epoch\", size = 14)\n",
    "ax.set_ylabel(\"Loss\", size = 14)\n",
    "ax.set_title(\"Training Loss\", size = 14, fontweight='bold')\n",
    "fig.set_figheight(6)\n",
    "fig.set_figwidth(16)"
   ]
  },
  {
   "cell_type": "code",
   "execution_count": null,
   "metadata": {
    "colab": {
     "base_uri": "https://localhost:8080/"
    },
    "id": "n8_KUkeS9Zb6",
    "outputId": "4adde405-8b46-426a-8b28-434d54bfe756"
   },
   "outputs": [],
   "source": [
    "import math\n",
    "from sklearn.metrics import mean_squared_error\n",
    "\n",
    "# make predictions\n",
    "y_test_pred = model(x_test)\n",
    "\n",
    "# invert predictions\n",
    "y_train_pred = scaler.inverse_transform(y_train_pred.detach().numpy())\n",
    "y_train = scaler.inverse_transform(y_train_gru.detach().numpy())\n",
    "y_test_pred = scaler.inverse_transform(y_test_pred.detach().numpy())\n",
    "y_test = scaler.inverse_transform(y_test_gru.detach().numpy())\n",
    "\n",
    "# calculate root mean squared error\n",
    "trainScore = math.sqrt(mean_squared_error(y_train[:,0], y_train_pred[:,0]))\n",
    "print('Train Score: %.2f RMSE' % (trainScore))\n",
    "testScore = math.sqrt(mean_squared_error(y_test[:,0], y_test_pred[:,0]))\n",
    "print('Test Score: %.2f RMSE' % (testScore))\n",
    "gru.append(trainScore)\n",
    "gru.append(testScore)\n",
    "gru.append(training_time)"
   ]
  },
  {
   "cell_type": "code",
   "execution_count": null,
   "metadata": {
    "id": "E8Puo_x29dE3"
   },
   "outputs": [],
   "source": [
    "# shift train predictions for plotting\n",
    "trainPredictPlot = np.empty_like(price_google)\n",
    "trainPredictPlot[:, :] = np.nan\n",
    "trainPredictPlot[lookback:len(y_train_pred)+lookback, :] = y_train_pred\n",
    "\n",
    "# shift test predictions for plotting\n",
    "testPredictPlot = np.empty_like(price_google)\n",
    "testPredictPlot[:, :] = np.nan\n",
    "testPredictPlot[len(y_train_pred)+lookback-1:len(price_google)-1, :] = y_test_pred\n",
    "\n",
    "original = scaler.inverse_transform(price_google['Close'].values.reshape(-1,1))\n",
    "\n",
    "predictions = np.append(trainPredictPlot, testPredictPlot, axis=1)\n",
    "predictions = np.append(predictions, original, axis=1)\n",
    "result = pd.DataFrame(predictions)"
   ]
  },
  {
   "cell_type": "code",
   "execution_count": null,
   "metadata": {
    "colab": {
     "base_uri": "https://localhost:8080/",
     "height": 542
    },
    "id": "EvMPwt6v9nMp",
    "outputId": "b87a42d2-5cd9-47d4-a294-b07dcfb593a1"
   },
   "outputs": [],
   "source": [
    "import plotly.express as px\n",
    "import plotly.graph_objects as go\n",
    "\n",
    "fig = go.Figure()\n",
    "fig.add_trace(go.Scatter(go.Scatter(x=result.index, y=result[0],\n",
    "                    mode='lines',\n",
    "                    name='Train prediction')))\n",
    "fig.add_trace(go.Scatter(x=result.index, y=result[1],\n",
    "                    mode='lines',\n",
    "                    name='Test prediction'))\n",
    "fig.add_trace(go.Scatter(go.Scatter(x=result.index, y=result[2],\n",
    "                    mode='lines',\n",
    "                    name='Actual Value')))\n",
    "fig.update_layout(\n",
    "    xaxis=dict(\n",
    "        showline=True,\n",
    "        showgrid=True,\n",
    "        showticklabels=False,\n",
    "        linecolor='white',\n",
    "        linewidth=2\n",
    "    ),\n",
    "    yaxis=dict(\n",
    "        title_text='Close (USD)',\n",
    "        titlefont=dict(\n",
    "            family='Rockwell',\n",
    "            size=12,\n",
    "            color='white',\n",
    "        ),\n",
    "        showline=True,\n",
    "        showgrid=True,\n",
    "        showticklabels=True,\n",
    "        linecolor='white',\n",
    "        linewidth=2,\n",
    "        ticks='outside',\n",
    "        tickfont=dict(\n",
    "            family='Rockwell',\n",
    "            size=12,\n",
    "            color='white',\n",
    "        ),\n",
    "    ),\n",
    "    showlegend=True,\n",
    "    template = 'plotly_dark'\n",
    "\n",
    ")\n",
    "\n",
    "\n",
    "\n",
    "annotations = []\n",
    "annotations.append(dict(xref='paper', yref='paper', x=0.0, y=1.05,\n",
    "                              xanchor='left', yanchor='bottom',\n",
    "                              text='Google Stock Result',\n",
    "                              font=dict(family='Rockwell',\n",
    "                                        size=26,\n",
    "                                        color='white'),\n",
    "                              showarrow=False))\n",
    "fig.update_layout(annotations=annotations)\n",
    "\n",
    "fig.show()"
   ]
  },
  {
   "cell_type": "code",
   "execution_count": null,
   "metadata": {
    "colab": {
     "base_uri": "https://localhost:8080/"
    },
    "id": "L6-DoL7m9v5F",
    "outputId": "0559d031-39ec-463b-a744-332739f384a2"
   },
   "outputs": [],
   "source": [
    "price_ibm = data_ibm[['Close']]\n",
    "price_ibm.info()"
   ]
  },
  {
   "cell_type": "code",
   "execution_count": null,
   "metadata": {
    "colab": {
     "base_uri": "https://localhost:8080/"
    },
    "id": "EnjshL2597Lu",
    "outputId": "2e87c704-7d8f-4e1b-bc35-bb595690dec9"
   },
   "outputs": [],
   "source": [
    "from sklearn.preprocessing import MinMaxScaler\n",
    "\n",
    "scaler = MinMaxScaler(feature_range=(-1, 1))\n",
    "price_ibm['Close'] = scaler.fit_transform(price_ibm['Close'].values.reshape(-1,1))"
   ]
  },
  {
   "cell_type": "code",
   "execution_count": null,
   "metadata": {
    "colab": {
     "base_uri": "https://localhost:8080/"
    },
    "id": "GM8xLLuI-Bz9",
    "outputId": "31867e25-7119-4eea-face-709854a2fa86"
   },
   "outputs": [],
   "source": [
    "lookback = 20 # choose sequence length\n",
    "x_train, y_train, x_test, y_test = split_data(price_ibm, lookback)\n",
    "print('x_train.shape = ',x_train.shape)\n",
    "print('y_train.shape = ',y_train.shape)\n",
    "print('x_test.shape = ',x_test.shape)\n",
    "print('y_test.shape = ',y_test.shape)"
   ]
  },
  {
   "cell_type": "code",
   "execution_count": null,
   "metadata": {
    "id": "YMUI0gkS-GVM"
   },
   "outputs": [],
   "source": [
    "import torch\n",
    "import torch.nn as nn\n",
    "\n",
    "x_train = torch.from_numpy(x_train).type(torch.Tensor)\n",
    "x_test = torch.from_numpy(x_test).type(torch.Tensor)\n",
    "y_train_gru = torch.from_numpy(y_train).type(torch.Tensor)\n",
    "y_test_gru = torch.from_numpy(y_test).type(torch.Tensor)"
   ]
  },
  {
   "cell_type": "code",
   "execution_count": null,
   "metadata": {
    "id": "8_vDI9Cb-KKI"
   },
   "outputs": [],
   "source": [
    "input_dim = 1\n",
    "hidden_dim = 32\n",
    "num_layers = 2\n",
    "output_dim = 1\n",
    "num_epochs = 105"
   ]
  },
  {
   "cell_type": "code",
   "execution_count": null,
   "metadata": {
    "id": "w-5GBtVb-KQN"
   },
   "outputs": [],
   "source": [
    "model = GRU(input_dim=input_dim, hidden_dim=hidden_dim, output_dim=output_dim, num_layers=num_layers)\n",
    "criterion = torch.nn.MSELoss(reduction='mean')\n",
    "optimiser = torch.optim.Adam(model.parameters(), lr=0.01)"
   ]
  },
  {
   "cell_type": "code",
   "execution_count": null,
   "metadata": {
    "colab": {
     "base_uri": "https://localhost:8080/"
    },
    "id": "CwHH2i5U-KcR",
    "outputId": "4efe1361-d5db-4893-9efb-d88cf5086660"
   },
   "outputs": [],
   "source": [
    "hist = np.zeros(num_epochs)\n",
    "start_time = time.time()\n",
    "gru = []\n",
    "\n",
    "for t in range(num_epochs):\n",
    "    y_train_pred = model(x_train)\n",
    "\n",
    "    loss = criterion(y_train_pred, y_train_gru)\n",
    "    print(\"Epoch \", t, \"MSE: \", loss.item())\n",
    "    hist[t] = loss.item()\n",
    "\n",
    "    optimiser.zero_grad()\n",
    "    loss.backward()\n",
    "    optimiser.step()\n",
    "\n",
    "training_time = time.time()-start_time    \n",
    "print(\"Training time: {}\".format(training_time))"
   ]
  },
  {
   "cell_type": "code",
   "execution_count": null,
   "metadata": {
    "id": "Vr5ZcVIc-Ke9"
   },
   "outputs": [],
   "source": [
    "predict = pd.DataFrame(scaler.inverse_transform(y_train_pred.detach().numpy()))\n",
    "original = pd.DataFrame(scaler.inverse_transform(y_train_gru.detach().numpy()))"
   ]
  },
  {
   "cell_type": "code",
   "execution_count": null,
   "metadata": {
    "colab": {
     "base_uri": "https://localhost:8080/",
     "height": 409
    },
    "id": "hfLtX-ec-Xuc",
    "outputId": "553b174f-dc3c-49a5-d1ca-fdb04aaf5fd7"
   },
   "outputs": [],
   "source": [
    "import seaborn as sns\n",
    "sns.set_style(\"darkgrid\")    \n",
    "\n",
    "fig = plt.figure()\n",
    "fig.subplots_adjust(hspace=0.2, wspace=0.2)\n",
    "\n",
    "plt.subplot(1, 2, 1)\n",
    "ax = sns.lineplot(x = original.index, y = original[0], label=\"Data\", color='royalblue')\n",
    "ax = sns.lineplot(x = predict.index, y = predict[0], label=\"Training Prediction (GRU)\", color='tomato')\n",
    "ax.set_title('IBM stock price', size = 14, fontweight='bold')\n",
    "ax.set_xlabel(\"Days\", size = 14)\n",
    "ax.set_ylabel(\"Cost (USD)\", size = 14)\n",
    "ax.set_xticklabels('', size=10)\n",
    "\n",
    "\n",
    "plt.subplot(1, 2, 2)\n",
    "ax = sns.lineplot(data=hist, color='royalblue')\n",
    "ax.set_xlabel(\"Epoch\", size = 14)\n",
    "ax.set_ylabel(\"Loss\", size = 14)\n",
    "ax.set_title(\"Training Loss\", size = 14, fontweight='bold')\n",
    "fig.set_figheight(6)\n",
    "fig.set_figwidth(16)"
   ]
  },
  {
   "cell_type": "code",
   "execution_count": null,
   "metadata": {
    "colab": {
     "base_uri": "https://localhost:8080/"
    },
    "id": "bhV5okHZ-fZE",
    "outputId": "53a313c0-9824-407a-f79b-6150539452c2"
   },
   "outputs": [],
   "source": [
    "import math\n",
    "from sklearn.metrics import mean_squared_error\n",
    "\n",
    "# make predictions\n",
    "y_test_pred = model(x_test)\n",
    "\n",
    "# invert predictions\n",
    "y_train_pred = scaler.inverse_transform(y_train_pred.detach().numpy())\n",
    "y_train = scaler.inverse_transform(y_train_gru.detach().numpy())\n",
    "y_test_pred = scaler.inverse_transform(y_test_pred.detach().numpy())\n",
    "y_test = scaler.inverse_transform(y_test_gru.detach().numpy())\n",
    "\n",
    "# calculate root mean squared error\n",
    "trainScore = math.sqrt(mean_squared_error(y_train[:,0], y_train_pred[:,0]))\n",
    "print('Train Score: %.2f RMSE' % (trainScore))\n",
    "testScore = math.sqrt(mean_squared_error(y_test[:,0], y_test_pred[:,0]))\n",
    "print('Test Score: %.2f RMSE' % (testScore))\n",
    "gru.append(trainScore)\n",
    "gru.append(testScore)\n",
    "gru.append(training_time)"
   ]
  },
  {
   "cell_type": "code",
   "execution_count": null,
   "metadata": {
    "id": "KjCgebsF-jlM"
   },
   "outputs": [],
   "source": [
    "# shift train predictions for plotting\n",
    "trainPredictPlot = np.empty_like(price_ibm)\n",
    "trainPredictPlot[:, :] = np.nan\n",
    "trainPredictPlot[lookback:len(y_train_pred)+lookback, :] = y_train_pred\n",
    "\n",
    "# shift test predictions for plotting\n",
    "testPredictPlot = np.empty_like(price_ibm)\n",
    "testPredictPlot[:, :] = np.nan\n",
    "testPredictPlot[len(y_train_pred)+lookback-1:len(price_ibm)-1, :] = y_test_pred\n",
    "\n",
    "original = scaler.inverse_transform(price_ibm['Close'].values.reshape(-1,1))\n",
    "\n",
    "predictions = np.append(trainPredictPlot, testPredictPlot, axis=1)\n",
    "predictions = np.append(predictions, original, axis=1)\n",
    "result = pd.DataFrame(predictions)"
   ]
  },
  {
   "cell_type": "code",
   "execution_count": null,
   "metadata": {
    "colab": {
     "base_uri": "https://localhost:8080/",
     "height": 542
    },
    "id": "yBEfy-id-uok",
    "outputId": "624d4ec5-fab3-4cd3-e7e1-30fb73d4ff59"
   },
   "outputs": [],
   "source": [
    "import plotly.express as px\n",
    "import plotly.graph_objects as go\n",
    "\n",
    "fig = go.Figure()\n",
    "fig.add_trace(go.Scatter(go.Scatter(x=result.index, y=result[0],\n",
    "                    mode='lines',\n",
    "                    name='Train prediction')))\n",
    "fig.add_trace(go.Scatter(x=result.index, y=result[1],\n",
    "                    mode='lines',\n",
    "                    name='Test prediction'))\n",
    "fig.add_trace(go.Scatter(go.Scatter(x=result.index, y=result[2],\n",
    "                    mode='lines',\n",
    "                    name='Actual Value')))\n",
    "fig.update_layout(\n",
    "    xaxis=dict(\n",
    "        showline=True,\n",
    "        showgrid=True,\n",
    "        showticklabels=False,\n",
    "        linecolor='white',\n",
    "        linewidth=2\n",
    "    ),\n",
    "    yaxis=dict(\n",
    "        title_text='Close (USD)',\n",
    "        titlefont=dict(\n",
    "            family='Rockwell',\n",
    "            size=12,\n",
    "            color='white',\n",
    "        ),\n",
    "        showline=True,\n",
    "        showgrid=True,\n",
    "        showticklabels=True,\n",
    "        linecolor='white',\n",
    "        linewidth=2,\n",
    "        ticks='outside',\n",
    "        tickfont=dict(\n",
    "            family='Rockwell',\n",
    "            size=12,\n",
    "            color='white',\n",
    "        ),\n",
    "    ),\n",
    "    showlegend=True,\n",
    "    template = 'plotly_dark'\n",
    "\n",
    ")\n",
    "\n",
    "\n",
    "\n",
    "annotations = []\n",
    "annotations.append(dict(xref='paper', yref='paper', x=0.0, y=1.05,\n",
    "                              xanchor='left', yanchor='bottom',\n",
    "                              text='IBM Stock Prediction',\n",
    "                              font=dict(family='Rockwell',\n",
    "                                        size=26,\n",
    "                                        color='white'),\n",
    "                              showarrow=False))\n",
    "fig.update_layout(annotations=annotations)\n",
    "\n",
    "fig.show()"
   ]
  },
  {
   "cell_type": "code",
   "execution_count": null,
   "metadata": {
    "colab": {
     "base_uri": "https://localhost:8080/"
    },
    "id": "RnJtSJkF-5n8",
    "outputId": "6320f3ff-cae0-4042-f0f4-4a5e4ed1bf99"
   },
   "outputs": [],
   "source": [
    "price_microsoft = data_microsoft[['Close']]\n",
    "price_microsoft.info()"
   ]
  },
  {
   "cell_type": "code",
   "execution_count": null,
   "metadata": {
    "colab": {
     "base_uri": "https://localhost:8080/"
    },
    "id": "P-97Xh37_Fss",
    "outputId": "822d6090-734b-4f9d-95b3-a9cddcfaf8b9"
   },
   "outputs": [],
   "source": [
    "from sklearn.preprocessing import MinMaxScaler\n",
    "\n",
    "scaler = MinMaxScaler(feature_range=(-1, 1))\n",
    "price_microsoft['Close'] = scaler.fit_transform(price_microsoft['Close'].values.reshape(-1,1))"
   ]
  },
  {
   "cell_type": "code",
   "execution_count": null,
   "metadata": {
    "colab": {
     "base_uri": "https://localhost:8080/"
    },
    "id": "khdQLW-c_MVk",
    "outputId": "95b4dd58-59f7-43ac-eb2a-124c79585350"
   },
   "outputs": [],
   "source": [
    "lookback = 20 # sequence length\n",
    "x_train, y_train, x_test, y_test = split_data(price_microsoft, lookback)\n",
    "print('x_train.shape = ',x_train.shape)\n",
    "print('y_train.shape = ',y_train.shape)\n",
    "print('x_test.shape = ',x_test.shape)\n",
    "print('y_test.shape = ',y_test.shape)"
   ]
  },
  {
   "cell_type": "code",
   "execution_count": null,
   "metadata": {
    "id": "-5BJUP9H_Xbs"
   },
   "outputs": [],
   "source": [
    "import torch\n",
    "import torch.nn as nn\n",
    "\n",
    "x_train = torch.from_numpy(x_train).type(torch.Tensor)\n",
    "x_test = torch.from_numpy(x_test).type(torch.Tensor)\n",
    "y_train_gru = torch.from_numpy(y_train).type(torch.Tensor)\n",
    "y_test_gru = torch.from_numpy(y_test).type(torch.Tensor)\n"
   ]
  },
  {
   "cell_type": "code",
   "execution_count": null,
   "metadata": {
    "id": "_pUbuIwZAW2X"
   },
   "outputs": [],
   "source": [
    "input_dim = 1\n",
    "hidden_dim = 32\n",
    "num_layers = 2\n",
    "output_dim = 1\n",
    "num_epochs = 105"
   ]
  },
  {
   "cell_type": "code",
   "execution_count": null,
   "metadata": {
    "id": "iqb1Y_JyAbls"
   },
   "outputs": [],
   "source": [
    "model = GRU(input_dim=input_dim, hidden_dim=hidden_dim, output_dim=output_dim, num_layers=num_layers)\n",
    "criterion = torch.nn.MSELoss(reduction='mean')\n",
    "optimiser = torch.optim.Adam(model.parameters(), lr=0.01)"
   ]
  },
  {
   "cell_type": "code",
   "execution_count": null,
   "metadata": {
    "colab": {
     "base_uri": "https://localhost:8080/"
    },
    "id": "4XvFDOx4AeUk",
    "outputId": "e67163c0-1bb3-4c5a-b8bd-eb41a6f18e5f",
    "scrolled": true
   },
   "outputs": [],
   "source": [
    "hist = np.zeros(num_epochs)\n",
    "start_time = time.time()\n",
    "gru = []\n",
    "\n",
    "for t in range(num_epochs):\n",
    "    y_train_pred = model(x_train)\n",
    "\n",
    "    loss = criterion(y_train_pred, y_train_gru)\n",
    "    print(\"Epoch \", t, \"MSE: \", loss.item())\n",
    "    hist[t] = loss.item()\n",
    "\n",
    "    optimiser.zero_grad()\n",
    "    loss.backward()\n",
    "    optimiser.step()\n",
    "\n",
    "training_time = time.time()-start_time    \n",
    "print(\"Training time: {}\".format(training_time))"
   ]
  },
  {
   "cell_type": "code",
   "execution_count": null,
   "metadata": {
    "id": "xV7v_Uv4AhCM"
   },
   "outputs": [],
   "source": [
    "predict = pd.DataFrame(scaler.inverse_transform(y_train_pred.detach().numpy()))\n",
    "original = pd.DataFrame(scaler.inverse_transform(y_train_gru.detach().numpy()))"
   ]
  },
  {
   "cell_type": "code",
   "execution_count": null,
   "metadata": {
    "colab": {
     "base_uri": "https://localhost:8080/",
     "height": 409
    },
    "id": "CbgxWwLNAkJl",
    "outputId": "90aa2fa5-85e5-4e87-cc32-cdc2723f0ba6"
   },
   "outputs": [],
   "source": [
    "import seaborn as sns\n",
    "sns.set_style(\"darkgrid\")    \n",
    "\n",
    "fig = plt.figure()\n",
    "fig.subplots_adjust(hspace=0.2, wspace=0.2)\n",
    "\n",
    "plt.subplot(1, 2, 1)\n",
    "ax = sns.lineplot(x = original.index, y = original[0], label=\"Data\", color='royalblue')\n",
    "ax = sns.lineplot(x = predict.index, y = predict[0], label=\"Training Prediction (GRU)\", color='tomato')\n",
    "ax.set_title('Microsoft stock price', size = 14, fontweight='bold')\n",
    "ax.set_xlabel(\"Days\", size = 14)\n",
    "ax.set_ylabel(\"Cost (USD)\", size = 14)\n",
    "ax.set_xticklabels('', size=10)\n",
    "\n",
    "\n",
    "plt.subplot(1, 2, 2)\n",
    "ax = sns.lineplot(data=hist, color='royalblue')\n",
    "ax.set_xlabel(\"Epoch\", size = 14)\n",
    "ax.set_ylabel(\"Loss\", size = 14)\n",
    "ax.set_title(\"Training Loss\", size = 14, fontweight='bold')\n",
    "fig.set_figheight(6)\n",
    "fig.set_figwidth(16)"
   ]
  },
  {
   "cell_type": "code",
   "execution_count": null,
   "metadata": {
    "colab": {
     "base_uri": "https://localhost:8080/"
    },
    "id": "FuQXbSNgAqn8",
    "outputId": "580ce02a-9fb2-4a52-d0ba-ec08949964bd"
   },
   "outputs": [],
   "source": [
    "import math, time\n",
    "from sklearn.metrics import mean_squared_error\n",
    "\n",
    "# make predictions\n",
    "y_test_pred = model(x_test)\n",
    "\n",
    "# invert predictions\n",
    "y_train_pred = scaler.inverse_transform(y_train_pred.detach().numpy())\n",
    "y_train = scaler.inverse_transform(y_train_gru.detach().numpy())\n",
    "y_test_pred = scaler.inverse_transform(y_test_pred.detach().numpy())\n",
    "y_test = scaler.inverse_transform(y_test_gru.detach().numpy())\n",
    "\n",
    "# calculate root mean squared error\n",
    "trainScore = math.sqrt(mean_squared_error(y_train[:,0], y_train_pred[:,0]))\n",
    "print('Train Score: %.2f RMSE' % (trainScore))\n",
    "testScore = math.sqrt(mean_squared_error(y_test[:,0], y_test_pred[:,0]))\n",
    "print('Test Score: %.2f RMSE' % (testScore))\n",
    "gru.append(trainScore)\n",
    "gru.append(testScore)\n",
    "gru.append(training_time)"
   ]
  },
  {
   "cell_type": "code",
   "execution_count": null,
   "metadata": {
    "id": "W1I0JNjmAulV"
   },
   "outputs": [],
   "source": [
    "# shift train predictions for plotting\n",
    "trainPredictPlot = np.empty_like(price_microsoft)\n",
    "trainPredictPlot[:, :] = np.nan\n",
    "trainPredictPlot[lookback:len(y_train_pred)+lookback, :] = y_train_pred\n",
    "\n",
    "# shift test predictions for plotting\n",
    "testPredictPlot = np.empty_like(price_microsoft)\n",
    "testPredictPlot[:, :] = np.nan\n",
    "testPredictPlot[len(y_train_pred)+lookback-1:len(price_microsoft)-1, :] = y_test_pred\n",
    "\n",
    "original = scaler.inverse_transform(price_microsoft['Close'].values.reshape(-1,1))\n",
    "\n",
    "predictions = np.append(trainPredictPlot, testPredictPlot, axis=1)\n",
    "predictions = np.append(predictions, original, axis=1)\n",
    "result = pd.DataFrame(predictions)"
   ]
  },
  {
   "cell_type": "code",
   "execution_count": null,
   "metadata": {
    "colab": {
     "base_uri": "https://localhost:8080/",
     "height": 542
    },
    "id": "UjeWihkFA6P2",
    "outputId": "c8dfba69-d471-4df8-99ab-66e43487c8d3"
   },
   "outputs": [],
   "source": [
    "import plotly.express as px\n",
    "import plotly.graph_objects as go\n",
    "\n",
    "fig = go.Figure()\n",
    "fig.add_trace(go.Scatter(go.Scatter(x=result.index, y=result[0],\n",
    "                    mode='lines',\n",
    "                    name='Train prediction')))\n",
    "fig.add_trace(go.Scatter(x=result.index, y=result[1],\n",
    "                    mode='lines',\n",
    "                    name='Test prediction'))\n",
    "fig.add_trace(go.Scatter(go.Scatter(x=result.index, y=result[2],\n",
    "                    mode='lines',\n",
    "                    name='Actual Value')))\n",
    "fig.update_layout(\n",
    "    xaxis=dict(\n",
    "        showline=True,\n",
    "        showgrid=True,\n",
    "        showticklabels=False,\n",
    "        linecolor='white',\n",
    "        linewidth=2\n",
    "    ),\n",
    "    yaxis=dict(\n",
    "        title_text='Close (USD)',\n",
    "        titlefont=dict(\n",
    "            family='Rockwell',\n",
    "            size=12,\n",
    "            color='white',\n",
    "        ),\n",
    "        showline=True,\n",
    "        showgrid=True,\n",
    "        showticklabels=True,\n",
    "        linecolor='white',\n",
    "        linewidth=2,\n",
    "        ticks='outside',\n",
    "        tickfont=dict(\n",
    "            family='Rockwell',\n",
    "            size=12,\n",
    "            color='white',\n",
    "        ),\n",
    "    ),\n",
    "    showlegend=True,\n",
    "    template = 'plotly_dark'\n",
    "\n",
    ")\n",
    "\n",
    "\n",
    "\n",
    "annotations = []\n",
    "annotations.append(dict(xref='paper', yref='paper', x=0.0, y=1.05,\n",
    "                              xanchor='left', yanchor='bottom',\n",
    "                              text='Microsoft Stock Prediction',\n",
    "                              font=dict(family='Rockwell',\n",
    "                                        size=26,\n",
    "                                        color='white'),\n",
    "                              showarrow=False))\n",
    "fig.update_layout(annotations=annotations)\n",
    "\n",
    "fig.show()"
   ]
  },
  {
   "cell_type": "markdown",
   "metadata": {},
   "source": [
    "# END"
   ]
  },
  {
   "cell_type": "code",
   "execution_count": null,
   "metadata": {},
   "outputs": [],
   "source": [
    "# Import libraries\n",
    "import pandas as pd\n",
    "from sklearn.model_selection import train_test_split\n",
    "from sklearn.preprocessing import MinMaxScaler\n",
    "import xgboost as xgb\n",
    "\n",
    "# Load data\n",
    "data = pd.read_csv(\"your_data.csv\")  # Replace with your data loading method\n",
    "\n",
    "# Separate features and target variable\n",
    "X = data.drop(\"target_variable\", axis=1)  # Replace \"target_variable\" with your actual target column name\n",
    "y = data[\"target_variable\"]\n",
    "\n",
    "# Scale features (optional, but can improve performance)\n",
    "scaler = MinMaxScaler(feature_range=(-1, 1))\n",
    "X_scaled = scaler.fit_transform(X)\n",
    "\n",
    "# Split data into training and testing sets\n",
    "X_train, X_test, y_train, y_test = train_test_split(X_scaled, y, test_size=0.2)\n",
    "\n",
    "# Define XGBoost model parameters\n",
    "model = xgb.XGBRegressor(objective='reg:squarederror',  # Regression objective\n",
    "                          learning_rate=0.1,          # Learning rate\n",
    "                          n_estimators=100,           # Number of trees\n",
    "                          max_depth=5)                # Maximum depth of trees\n",
    "\n",
    "# Train the model\n",
    "model.fit(X_train, y_train)\n",
    "\n",
    "# Make predictions\n",
    "y_pred = model.predict(X_test)\n",
    "\n",
    "# Invert scaling (if applied) for evaluation\n",
    "y_pred_unscaled = scaler.inverse_transform(y_pred.reshape(-1, 1))  # Reshape for scaler\n",
    "\n",
    "# Evaluate the model (using Mean Squared Error)\n",
    "from sklearn.metrics import mean_squared_error\n",
    "rmse = mean_squared_error(y_test, y_pred_unscaled, squared=False)  # Calculate RMSE\n",
    "print(\"Root Mean Squared Error (RMSE):\", rmse)\n",
    "\n",
    "# Save the model (optional)\n",
    "model.save_model(\"model.json\")  # Save in JSON format\n"
   ]
  }
 ],
 "metadata": {
  "colab": {
   "collapsed_sections": [],
   "name": "Stock_market.ipynb",
   "provenance": []
  },
  "kernelspec": {
   "display_name": "Python 3 (ipykernel)",
   "language": "python",
   "name": "python3"
  },
  "language_info": {
   "codemirror_mode": {
    "name": "ipython",
    "version": 3
   },
   "file_extension": ".py",
   "mimetype": "text/x-python",
   "name": "python",
   "nbconvert_exporter": "python",
   "pygments_lexer": "ipython3",
   "version": "3.11.7"
  }
 },
 "nbformat": 4,
 "nbformat_minor": 1
}
